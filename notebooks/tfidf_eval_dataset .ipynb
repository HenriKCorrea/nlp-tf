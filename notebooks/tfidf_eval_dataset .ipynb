{
 "cells": [
  {
   "cell_type": "markdown",
   "id": "93d6b9aa",
   "metadata": {},
   "source": [
    "# Setup"
   ]
  },
  {
   "cell_type": "code",
   "execution_count": 1,
   "id": "b91e8958",
   "metadata": {
    "vscode": {
     "languageId": "shellscript"
    }
   },
   "outputs": [
    {
     "name": "stdout",
     "output_type": "stream",
     "text": [
      "Requirement already satisfied: omegaconf in /home/henrique/.conda/envs/tfidf/lib/python3.12/site-packages (2.3.0)\n",
      "Requirement already satisfied: scikit-learn in /home/henrique/.conda/envs/tfidf/lib/python3.12/site-packages (1.7.0)\n",
      "Requirement already satisfied: datasets==2.16.1 in /home/henrique/.conda/envs/tfidf/lib/python3.12/site-packages (2.16.1)\n",
      "Requirement already satisfied: tqdm in /home/henrique/.conda/envs/tfidf/lib/python3.12/site-packages (4.67.1)\n",
      "Requirement already satisfied: numpy in /home/henrique/.conda/envs/tfidf/lib/python3.12/site-packages (2.3.1)\n",
      "Requirement already satisfied: filelock in /home/henrique/.conda/envs/tfidf/lib/python3.12/site-packages (from datasets==2.16.1) (3.18.0)\n",
      "Requirement already satisfied: pyarrow>=8.0.0 in /home/henrique/.conda/envs/tfidf/lib/python3.12/site-packages (from datasets==2.16.1) (20.0.0)\n",
      "Requirement already satisfied: pyarrow-hotfix in /home/henrique/.conda/envs/tfidf/lib/python3.12/site-packages (from datasets==2.16.1) (0.7)\n",
      "Requirement already satisfied: dill<0.3.8,>=0.3.0 in /home/henrique/.conda/envs/tfidf/lib/python3.12/site-packages (from datasets==2.16.1) (0.3.7)\n",
      "Requirement already satisfied: pandas in /home/henrique/.conda/envs/tfidf/lib/python3.12/site-packages (from datasets==2.16.1) (2.3.1)\n",
      "Requirement already satisfied: requests>=2.19.0 in /home/henrique/.conda/envs/tfidf/lib/python3.12/site-packages (from datasets==2.16.1) (2.32.4)\n",
      "Requirement already satisfied: xxhash in /home/henrique/.conda/envs/tfidf/lib/python3.12/site-packages (from datasets==2.16.1) (3.5.0)\n",
      "Requirement already satisfied: multiprocess in /home/henrique/.conda/envs/tfidf/lib/python3.12/site-packages (from datasets==2.16.1) (0.70.15)\n",
      "Requirement already satisfied: fsspec<=2023.10.0,>=2023.1.0 in /home/henrique/.conda/envs/tfidf/lib/python3.12/site-packages (from fsspec[http]<=2023.10.0,>=2023.1.0->datasets==2.16.1) (2023.10.0)\n",
      "Requirement already satisfied: aiohttp in /home/henrique/.conda/envs/tfidf/lib/python3.12/site-packages (from datasets==2.16.1) (3.12.14)\n",
      "Requirement already satisfied: huggingface-hub>=0.19.4 in /home/henrique/.conda/envs/tfidf/lib/python3.12/site-packages (from datasets==2.16.1) (0.33.4)\n",
      "Requirement already satisfied: packaging in /home/henrique/.conda/envs/tfidf/lib/python3.12/site-packages (from datasets==2.16.1) (25.0)\n",
      "Requirement already satisfied: pyyaml>=5.1 in /home/henrique/.conda/envs/tfidf/lib/python3.12/site-packages (from datasets==2.16.1) (6.0.2)\n",
      "Requirement already satisfied: antlr4-python3-runtime==4.9.* in /home/henrique/.conda/envs/tfidf/lib/python3.12/site-packages (from omegaconf) (4.9.3)\n",
      "Requirement already satisfied: scipy>=1.8.0 in /home/henrique/.conda/envs/tfidf/lib/python3.12/site-packages (from scikit-learn) (1.16.0)\n",
      "Requirement already satisfied: joblib>=1.2.0 in /home/henrique/.conda/envs/tfidf/lib/python3.12/site-packages (from scikit-learn) (1.5.1)\n",
      "Requirement already satisfied: threadpoolctl>=3.1.0 in /home/henrique/.conda/envs/tfidf/lib/python3.12/site-packages (from scikit-learn) (3.6.0)\n",
      "Requirement already satisfied: aiohappyeyeballs>=2.5.0 in /home/henrique/.conda/envs/tfidf/lib/python3.12/site-packages (from aiohttp->datasets==2.16.1) (2.6.1)\n",
      "Requirement already satisfied: aiosignal>=1.4.0 in /home/henrique/.conda/envs/tfidf/lib/python3.12/site-packages (from aiohttp->datasets==2.16.1) (1.4.0)\n",
      "Requirement already satisfied: attrs>=17.3.0 in /home/henrique/.conda/envs/tfidf/lib/python3.12/site-packages (from aiohttp->datasets==2.16.1) (25.3.0)\n",
      "Requirement already satisfied: frozenlist>=1.1.1 in /home/henrique/.conda/envs/tfidf/lib/python3.12/site-packages (from aiohttp->datasets==2.16.1) (1.7.0)\n",
      "Requirement already satisfied: multidict<7.0,>=4.5 in /home/henrique/.conda/envs/tfidf/lib/python3.12/site-packages (from aiohttp->datasets==2.16.1) (6.6.3)\n",
      "Requirement already satisfied: propcache>=0.2.0 in /home/henrique/.conda/envs/tfidf/lib/python3.12/site-packages (from aiohttp->datasets==2.16.1) (0.3.2)\n",
      "Requirement already satisfied: yarl<2.0,>=1.17.0 in /home/henrique/.conda/envs/tfidf/lib/python3.12/site-packages (from aiohttp->datasets==2.16.1) (1.20.1)\n",
      "Requirement already satisfied: idna>=2.0 in /home/henrique/.conda/envs/tfidf/lib/python3.12/site-packages (from yarl<2.0,>=1.17.0->aiohttp->datasets==2.16.1) (3.10)\n",
      "Requirement already satisfied: typing-extensions>=4.2 in /home/henrique/.conda/envs/tfidf/lib/python3.12/site-packages (from aiosignal>=1.4.0->aiohttp->datasets==2.16.1) (4.14.1)\n",
      "Requirement already satisfied: hf-xet<2.0.0,>=1.1.2 in /home/henrique/.conda/envs/tfidf/lib/python3.12/site-packages (from huggingface-hub>=0.19.4->datasets==2.16.1) (1.1.5)\n",
      "Requirement already satisfied: charset_normalizer<4,>=2 in /home/henrique/.conda/envs/tfidf/lib/python3.12/site-packages (from requests>=2.19.0->datasets==2.16.1) (3.4.2)\n",
      "Requirement already satisfied: urllib3<3,>=1.21.1 in /home/henrique/.conda/envs/tfidf/lib/python3.12/site-packages (from requests>=2.19.0->datasets==2.16.1) (2.5.0)\n",
      "Requirement already satisfied: certifi>=2017.4.17 in /home/henrique/.conda/envs/tfidf/lib/python3.12/site-packages (from requests>=2.19.0->datasets==2.16.1) (2025.7.9)\n",
      "Requirement already satisfied: python-dateutil>=2.8.2 in /home/henrique/.conda/envs/tfidf/lib/python3.12/site-packages (from pandas->datasets==2.16.1) (2.9.0.post0)\n",
      "Requirement already satisfied: pytz>=2020.1 in /home/henrique/.conda/envs/tfidf/lib/python3.12/site-packages (from pandas->datasets==2.16.1) (2025.2)\n",
      "Requirement already satisfied: tzdata>=2022.7 in /home/henrique/.conda/envs/tfidf/lib/python3.12/site-packages (from pandas->datasets==2.16.1) (2025.2)\n",
      "Requirement already satisfied: six>=1.5 in /home/henrique/.conda/envs/tfidf/lib/python3.12/site-packages (from python-dateutil>=2.8.2->pandas->datasets==2.16.1) (1.17.0)\n",
      "Note: you may need to restart the kernel to use updated packages.\n",
      "Requirement already satisfied: ipywidgets in /home/henrique/.conda/envs/tfidf/lib/python3.12/site-packages (8.1.7)\n",
      "Requirement already satisfied: nbconvert in /home/henrique/.conda/envs/tfidf/lib/python3.12/site-packages (7.16.6)\n",
      "Requirement already satisfied: comm>=0.1.3 in /home/henrique/.conda/envs/tfidf/lib/python3.12/site-packages (from ipywidgets) (0.2.2)\n",
      "Requirement already satisfied: ipython>=6.1.0 in /home/henrique/.conda/envs/tfidf/lib/python3.12/site-packages (from ipywidgets) (9.4.0)\n",
      "Requirement already satisfied: traitlets>=4.3.1 in /home/henrique/.conda/envs/tfidf/lib/python3.12/site-packages (from ipywidgets) (5.14.3)\n",
      "Requirement already satisfied: widgetsnbextension~=4.0.14 in /home/henrique/.conda/envs/tfidf/lib/python3.12/site-packages (from ipywidgets) (4.0.14)\n",
      "Requirement already satisfied: jupyterlab_widgets~=3.0.15 in /home/henrique/.conda/envs/tfidf/lib/python3.12/site-packages (from ipywidgets) (3.0.15)\n",
      "Requirement already satisfied: beautifulsoup4 in /home/henrique/.conda/envs/tfidf/lib/python3.12/site-packages (from nbconvert) (4.13.4)\n",
      "Requirement already satisfied: bleach!=5.0.0 in /home/henrique/.conda/envs/tfidf/lib/python3.12/site-packages (from bleach[css]!=5.0.0->nbconvert) (6.2.0)\n",
      "Requirement already satisfied: defusedxml in /home/henrique/.conda/envs/tfidf/lib/python3.12/site-packages (from nbconvert) (0.7.1)\n",
      "Requirement already satisfied: jinja2>=3.0 in /home/henrique/.conda/envs/tfidf/lib/python3.12/site-packages (from nbconvert) (3.1.6)\n",
      "Requirement already satisfied: jupyter-core>=4.7 in /home/henrique/.conda/envs/tfidf/lib/python3.12/site-packages (from nbconvert) (5.8.1)\n",
      "Requirement already satisfied: jupyterlab-pygments in /home/henrique/.conda/envs/tfidf/lib/python3.12/site-packages (from nbconvert) (0.3.0)\n",
      "Requirement already satisfied: markupsafe>=2.0 in /home/henrique/.conda/envs/tfidf/lib/python3.12/site-packages (from nbconvert) (3.0.2)\n",
      "Requirement already satisfied: mistune<4,>=2.0.3 in /home/henrique/.conda/envs/tfidf/lib/python3.12/site-packages (from nbconvert) (3.1.3)\n",
      "Requirement already satisfied: nbclient>=0.5.0 in /home/henrique/.conda/envs/tfidf/lib/python3.12/site-packages (from nbconvert) (0.10.2)\n",
      "Requirement already satisfied: nbformat>=5.7 in /home/henrique/.conda/envs/tfidf/lib/python3.12/site-packages (from nbconvert) (5.10.4)\n",
      "Requirement already satisfied: packaging in /home/henrique/.conda/envs/tfidf/lib/python3.12/site-packages (from nbconvert) (25.0)\n",
      "Requirement already satisfied: pandocfilters>=1.4.1 in /home/henrique/.conda/envs/tfidf/lib/python3.12/site-packages (from nbconvert) (1.5.1)\n",
      "Requirement already satisfied: pygments>=2.4.1 in /home/henrique/.conda/envs/tfidf/lib/python3.12/site-packages (from nbconvert) (2.19.2)\n",
      "Requirement already satisfied: webencodings in /home/henrique/.conda/envs/tfidf/lib/python3.12/site-packages (from bleach!=5.0.0->bleach[css]!=5.0.0->nbconvert) (0.5.1)\n",
      "Requirement already satisfied: tinycss2<1.5,>=1.1.0 in /home/henrique/.conda/envs/tfidf/lib/python3.12/site-packages (from bleach[css]!=5.0.0->nbconvert) (1.4.0)\n",
      "Requirement already satisfied: decorator in /home/henrique/.conda/envs/tfidf/lib/python3.12/site-packages (from ipython>=6.1.0->ipywidgets) (5.2.1)\n",
      "Requirement already satisfied: ipython-pygments-lexers in /home/henrique/.conda/envs/tfidf/lib/python3.12/site-packages (from ipython>=6.1.0->ipywidgets) (1.1.1)\n",
      "Requirement already satisfied: jedi>=0.16 in /home/henrique/.conda/envs/tfidf/lib/python3.12/site-packages (from ipython>=6.1.0->ipywidgets) (0.19.2)\n",
      "Requirement already satisfied: matplotlib-inline in /home/henrique/.conda/envs/tfidf/lib/python3.12/site-packages (from ipython>=6.1.0->ipywidgets) (0.1.7)\n",
      "Requirement already satisfied: pexpect>4.3 in /home/henrique/.conda/envs/tfidf/lib/python3.12/site-packages (from ipython>=6.1.0->ipywidgets) (4.9.0)\n",
      "Requirement already satisfied: prompt_toolkit<3.1.0,>=3.0.41 in /home/henrique/.conda/envs/tfidf/lib/python3.12/site-packages (from ipython>=6.1.0->ipywidgets) (3.0.51)\n",
      "Requirement already satisfied: stack_data in /home/henrique/.conda/envs/tfidf/lib/python3.12/site-packages (from ipython>=6.1.0->ipywidgets) (0.6.3)\n",
      "Requirement already satisfied: wcwidth in /home/henrique/.conda/envs/tfidf/lib/python3.12/site-packages (from prompt_toolkit<3.1.0,>=3.0.41->ipython>=6.1.0->ipywidgets) (0.2.13)\n",
      "Requirement already satisfied: parso<0.9.0,>=0.8.4 in /home/henrique/.conda/envs/tfidf/lib/python3.12/site-packages (from jedi>=0.16->ipython>=6.1.0->ipywidgets) (0.8.4)\n",
      "Requirement already satisfied: platformdirs>=2.5 in /home/henrique/.conda/envs/tfidf/lib/python3.12/site-packages (from jupyter-core>=4.7->nbconvert) (4.3.8)\n",
      "Requirement already satisfied: jupyter-client>=6.1.12 in /home/henrique/.conda/envs/tfidf/lib/python3.12/site-packages (from nbclient>=0.5.0->nbconvert) (8.6.3)\n",
      "Requirement already satisfied: python-dateutil>=2.8.2 in /home/henrique/.conda/envs/tfidf/lib/python3.12/site-packages (from jupyter-client>=6.1.12->nbclient>=0.5.0->nbconvert) (2.9.0.post0)\n",
      "Requirement already satisfied: pyzmq>=23.0 in /home/henrique/.conda/envs/tfidf/lib/python3.12/site-packages (from jupyter-client>=6.1.12->nbclient>=0.5.0->nbconvert) (26.2.0)\n",
      "Requirement already satisfied: tornado>=6.2 in /home/henrique/.conda/envs/tfidf/lib/python3.12/site-packages (from jupyter-client>=6.1.12->nbclient>=0.5.0->nbconvert) (6.5.1)\n",
      "Requirement already satisfied: fastjsonschema>=2.15 in /home/henrique/.conda/envs/tfidf/lib/python3.12/site-packages (from nbformat>=5.7->nbconvert) (2.21.1)\n",
      "Requirement already satisfied: jsonschema>=2.6 in /home/henrique/.conda/envs/tfidf/lib/python3.12/site-packages (from nbformat>=5.7->nbconvert) (4.24.0)\n",
      "Requirement already satisfied: attrs>=22.2.0 in /home/henrique/.conda/envs/tfidf/lib/python3.12/site-packages (from jsonschema>=2.6->nbformat>=5.7->nbconvert) (25.3.0)\n",
      "Requirement already satisfied: jsonschema-specifications>=2023.03.6 in /home/henrique/.conda/envs/tfidf/lib/python3.12/site-packages (from jsonschema>=2.6->nbformat>=5.7->nbconvert) (2025.4.1)\n",
      "Requirement already satisfied: referencing>=0.28.4 in /home/henrique/.conda/envs/tfidf/lib/python3.12/site-packages (from jsonschema>=2.6->nbformat>=5.7->nbconvert) (0.36.2)\n",
      "Requirement already satisfied: rpds-py>=0.7.1 in /home/henrique/.conda/envs/tfidf/lib/python3.12/site-packages (from jsonschema>=2.6->nbformat>=5.7->nbconvert) (0.26.0)\n",
      "Requirement already satisfied: ptyprocess>=0.5 in /home/henrique/.conda/envs/tfidf/lib/python3.12/site-packages (from pexpect>4.3->ipython>=6.1.0->ipywidgets) (0.7.0)\n",
      "Requirement already satisfied: six>=1.5 in /home/henrique/.conda/envs/tfidf/lib/python3.12/site-packages (from python-dateutil>=2.8.2->jupyter-client>=6.1.12->nbclient>=0.5.0->nbconvert) (1.17.0)\n",
      "Requirement already satisfied: typing-extensions>=4.4.0 in /home/henrique/.conda/envs/tfidf/lib/python3.12/site-packages (from referencing>=0.28.4->jsonschema>=2.6->nbformat>=5.7->nbconvert) (4.14.1)\n",
      "Requirement already satisfied: soupsieve>1.2 in /home/henrique/.conda/envs/tfidf/lib/python3.12/site-packages (from beautifulsoup4->nbconvert) (2.7)\n",
      "Requirement already satisfied: executing>=1.2.0 in /home/henrique/.conda/envs/tfidf/lib/python3.12/site-packages (from stack_data->ipython>=6.1.0->ipywidgets) (2.2.0)\n",
      "Requirement already satisfied: asttokens>=2.1.0 in /home/henrique/.conda/envs/tfidf/lib/python3.12/site-packages (from stack_data->ipython>=6.1.0->ipywidgets) (3.0.0)\n",
      "Requirement already satisfied: pure_eval in /home/henrique/.conda/envs/tfidf/lib/python3.12/site-packages (from stack_data->ipython>=6.1.0->ipywidgets) (0.2.3)\n",
      "Note: you may need to restart the kernel to use updated packages.\n"
     ]
    }
   ],
   "source": [
    "# Install python dependencies\n",
    "%pip install  omegaconf scikit-learn datasets==2.16.1 tqdm numpy\n",
    "# Optinal python packages for better user experience\n",
    "%pip install ipywidgets nbconvert "
   ]
  },
  {
   "cell_type": "code",
   "execution_count": 2,
   "id": "9ceb26ff",
   "metadata": {},
   "outputs": [],
   "source": [
    "# Import necessary libraries\n",
    "from datasets import load_dataset\n",
    "from sklearn.feature_extraction.text import TfidfVectorizer\n",
    "from sklearn.metrics.pairwise import cosine_similarity\n",
    "import tqdm\n",
    "import numpy as np"
   ]
  },
  {
   "cell_type": "code",
   "execution_count": null,
   "id": "43125081",
   "metadata": {},
   "outputs": [
    {
     "data": {
      "application/vnd.jupyter.widget-view+json": {
       "model_id": "32fe66ddd8e24978a0e0aa3b7aa48b99",
       "version_major": 2,
       "version_minor": 0
      },
      "text/plain": [
       "Downloading builder script: 0.00B [00:00, ?B/s]"
      ]
     },
     "metadata": {},
     "output_type": "display_data"
    },
    {
     "data": {
      "application/vnd.jupyter.widget-view+json": {
       "model_id": "88305b8b25ef41608af3ee5e8b37002c",
       "version_major": 2,
       "version_minor": 0
      },
      "text/plain": [
       "Downloading readme: 0.00B [00:00, ?B/s]"
      ]
     },
     "metadata": {},
     "output_type": "display_data"
    }
   ],
   "source": [
    "# 2. Load dataset\n",
    "nl_code_test = load_dataset(\n",
    "    \"NTU-NLP-sg/xCodeEval\",\n",
    "    \"retrieval_nl_code\",\n",
    "    trust_remote_code=True,\n",
    "    split=\"test\",\n",
    "    revision=\"467d25a839086383794b58055981221b82c0d107\"\n",
    ")\n",
    "corpus = load_dataset(\n",
    "    \"NTU-NLP-sg/xCodeEval\",\n",
    "    \"retrieval_corpus\",\n",
    "    trust_remote_code=True,\n",
    "    split=\"test\",\n",
    "    revision=\"467d25a839086383794b58055981221b82c0d107\"\n",
    ")\n",
    "\n",
    "# 3. Fit TF-IDF on the corpus\n",
    "vectorizer = TfidfVectorizer(\n",
    "    input='content', # input is a sequence of strings\n",
    "    analyzer='word', # split the text into words, not characters or n-grams\n",
    "    token_pattern=r'\\w+|[^\\s\\w]', # Try to match variables, functions, and symbols\n",
    "    lowercase=False, # code is case-sensitive (structured data)\n",
    "    max_features=10000  # Vocabulary size. 10000 ~ 32 GB RAM\n",
    ")\n",
    "corpus_tfidf = vectorizer.fit_transform(corpus[\"source_code\"])\n",
    "\n"
   ]
  },
  {
   "cell_type": "code",
   "execution_count": null,
   "id": "2cad44ea",
   "metadata": {},
   "outputs": [],
   "source": [
    "# 5. Retrieval and evaluation\n",
    "def evaluate_tfidf_topk(k_vals=[100]):\n",
    "    results = {k: 0 for k in k_vals}\n",
    "    src_uids = corpus[\"src_uid\"]\n",
    "    total = len(nl_code_test)\n",
    "    for example in tqdm(nl_code_test):\n",
    "        # Transform the NL query to TF-IDF vector\n",
    "        query_vec = vectorizer.transform([example[\"nl\"]])\n",
    "        # Compute cosine similarity\n",
    "        sims = cosine_similarity(query_vec, corpus_tfidf).flatten()\n",
    "        # Get top-k indices\n",
    "        top_indices = np.argsort(sims)[::-1]\n",
    "        retrieved_uids = [src_uids[i] for i in top_indices]\n",
    "        for k in k_vals:\n",
    "            if example[\"src_uid\"] in retrieved_uids[:k]:\n",
    "                results[k] += 1\n",
    "    return {k: v / total for k, v in results.items()}\n",
    "\n"
   ]
  },
  {
   "cell_type": "code",
   "execution_count": null,
   "id": "58c93f78",
   "metadata": {},
   "outputs": [],
   "source": [
    "# 6. Run evaluation\n",
    "topk_acc = evaluate_tfidf_topk()\n",
    "print(\"Top-K Accuracy:\", topk_acc)\n"
   ]
  }
 ],
 "metadata": {
  "kernelspec": {
   "display_name": "tfidf",
   "language": "python",
   "name": "python3"
  },
  "language_info": {
   "codemirror_mode": {
    "name": "ipython",
    "version": 3
   },
   "file_extension": ".py",
   "mimetype": "text/x-python",
   "name": "python",
   "nbconvert_exporter": "python",
   "pygments_lexer": "ipython3",
   "version": "3.12.11"
  }
 },
 "nbformat": 4,
 "nbformat_minor": 5
}
